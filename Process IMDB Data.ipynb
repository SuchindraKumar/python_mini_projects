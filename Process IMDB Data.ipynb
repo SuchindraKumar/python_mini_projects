{
 "cells": [
  {
   "cell_type": "markdown",
   "id": "712454a1",
   "metadata": {},
   "source": [
    "# Project - Process IMDB Data\n"
   ]
  },
  {
   "cell_type": "markdown",
   "id": "e7a5dd61",
   "metadata": {},
   "source": [
    "#### The file `movie_metadata.csv` contains over 5000 rows of data from IMDB.\n",
    "\n",
    "#### There is more metadata (data about data) than needed. The job is to process it and create a new csv file with less metadata \n",
    "\n",
    "#### and only for movies rated above `imdb_score 7`."
   ]
  },
  {
   "cell_type": "code",
   "execution_count": 1,
   "id": "9eb53fcc",
   "metadata": {},
   "outputs": [],
   "source": [
    "import csv"
   ]
  },
  {
   "cell_type": "code",
   "execution_count": 2,
   "id": "57a3e060",
   "metadata": {},
   "outputs": [],
   "source": [
    "with open(\"movie_metadata.csv\", encoding=\"utf8\") as f:\n",
    "    csv_reader = csv.DictReader(f)\n",
    "    records = list(csv_reader)\n",
    "    "
   ]
  },
  {
   "cell_type": "code",
   "execution_count": 3,
   "id": "1487e8ea",
   "metadata": {},
   "outputs": [
    {
     "data": {
      "text/plain": [
       "{'color': 'Color',\n",
       " 'director_name': 'James Cameron',\n",
       " 'num_critic_for_reviews': '723',\n",
       " 'duration': '178',\n",
       " 'director_facebook_likes': '0',\n",
       " 'actor_3_facebook_likes': '855',\n",
       " 'actor_2_name': 'Joel David Moore',\n",
       " 'actor_1_facebook_likes': '1000',\n",
       " 'gross': '760505847',\n",
       " 'genres': 'Action|Adventure|Fantasy|Sci-Fi',\n",
       " 'actor_1_name': 'CCH Pounder',\n",
       " 'movie_title': 'Avatar',\n",
       " 'num_voted_users': '886204',\n",
       " 'cast_total_facebook_likes': '4834',\n",
       " 'actor_3_name': 'Wes Studi',\n",
       " 'facenumber_in_poster': '0',\n",
       " 'plot_keywords': 'avatar|future|marine|native|paraplegic',\n",
       " 'movie_imdb_link': 'http://www.imdb.com/title/tt0499549/?ref_=fn_tt_tt_1',\n",
       " 'num_user_for_reviews': '3054',\n",
       " 'language': 'English',\n",
       " 'country': 'USA',\n",
       " 'content_rating': 'PG-13',\n",
       " 'budget': '237000000',\n",
       " 'title_year': '2009',\n",
       " 'actor_2_facebook_likes': '936',\n",
       " 'imdb_score': '7.9',\n",
       " 'aspect_ratio': '1.78',\n",
       " 'movie_facebook_likes': '33000'}"
      ]
     },
     "execution_count": 3,
     "metadata": {},
     "output_type": "execute_result"
    }
   ],
   "source": [
    "records[0]"
   ]
  },
  {
   "cell_type": "code",
   "execution_count": 4,
   "id": "a452a3d5",
   "metadata": {},
   "outputs": [
    {
     "data": {
      "text/plain": [
       "5043"
      ]
     },
     "execution_count": 4,
     "metadata": {},
     "output_type": "execute_result"
    }
   ],
   "source": [
    "len(records)"
   ]
  },
  {
   "cell_type": "code",
   "execution_count": 5,
   "id": "2d48c963",
   "metadata": {},
   "outputs": [],
   "source": [
    "for record in records:\n",
    "    record['imdb_score'] = float(record['imdb_score'])"
   ]
  },
  {
   "cell_type": "code",
   "execution_count": 6,
   "id": "42c54c5b",
   "metadata": {},
   "outputs": [
    {
     "data": {
      "text/plain": [
       "{'color': 'Color',\n",
       " 'director_name': 'James Cameron',\n",
       " 'num_critic_for_reviews': '723',\n",
       " 'duration': '178',\n",
       " 'director_facebook_likes': '0',\n",
       " 'actor_3_facebook_likes': '855',\n",
       " 'actor_2_name': 'Joel David Moore',\n",
       " 'actor_1_facebook_likes': '1000',\n",
       " 'gross': '760505847',\n",
       " 'genres': 'Action|Adventure|Fantasy|Sci-Fi',\n",
       " 'actor_1_name': 'CCH Pounder',\n",
       " 'movie_title': 'Avatar',\n",
       " 'num_voted_users': '886204',\n",
       " 'cast_total_facebook_likes': '4834',\n",
       " 'actor_3_name': 'Wes Studi',\n",
       " 'facenumber_in_poster': '0',\n",
       " 'plot_keywords': 'avatar|future|marine|native|paraplegic',\n",
       " 'movie_imdb_link': 'http://www.imdb.com/title/tt0499549/?ref_=fn_tt_tt_1',\n",
       " 'num_user_for_reviews': '3054',\n",
       " 'language': 'English',\n",
       " 'country': 'USA',\n",
       " 'content_rating': 'PG-13',\n",
       " 'budget': '237000000',\n",
       " 'title_year': '2009',\n",
       " 'actor_2_facebook_likes': '936',\n",
       " 'imdb_score': 7.9,\n",
       " 'aspect_ratio': '1.78',\n",
       " 'movie_facebook_likes': '33000'}"
      ]
     },
     "execution_count": 6,
     "metadata": {},
     "output_type": "execute_result"
    }
   ],
   "source": [
    "records[0]"
   ]
  },
  {
   "cell_type": "code",
   "execution_count": 7,
   "id": "b426680f",
   "metadata": {},
   "outputs": [],
   "source": [
    "processed_records = []\n",
    "\n",
    "for record in records:\n",
    "    if record['imdb_score']>7:\n",
    "        new_record = {\n",
    "            \n",
    "            \"movie_title\": record['movie_title'],\n",
    "            \"imdb_score\": record['imdb_score']\n",
    "            \n",
    "        }\n",
    "        processed_records.append(new_record)"
   ]
  },
  {
   "cell_type": "code",
   "execution_count": 8,
   "id": "ed1c1a70",
   "metadata": {},
   "outputs": [
    {
     "data": {
      "text/plain": [
       "1594"
      ]
     },
     "execution_count": 8,
     "metadata": {},
     "output_type": "execute_result"
    }
   ],
   "source": [
    "len(processed_records)"
   ]
  },
  {
   "cell_type": "code",
   "execution_count": 9,
   "id": "9bc9fe7c",
   "metadata": {},
   "outputs": [
    {
     "data": {
      "text/plain": [
       "{'movie_title': 'Avatar', 'imdb_score': 7.9}"
      ]
     },
     "execution_count": 9,
     "metadata": {},
     "output_type": "execute_result"
    }
   ],
   "source": [
    "processed_records[0]"
   ]
  },
  {
   "cell_type": "code",
   "execution_count": 10,
   "id": "ebe0ea2a",
   "metadata": {},
   "outputs": [],
   "source": [
    "with open(\"best_movies.csv\",\"w\", encoding=\"utf8\") as f:\n",
    "    csv_writer = csv.DictWriter(f, fieldnames =['movie_title','imdb_score'])\n",
    "    csv_writer.writeheader()\n",
    "    csv_writer.writerows(processed_records)\n",
    "    "
   ]
  },
  {
   "cell_type": "code",
   "execution_count": 11,
   "id": "b9fc659e",
   "metadata": {},
   "outputs": [],
   "source": [
    "import pandas as pd"
   ]
  },
  {
   "cell_type": "code",
   "execution_count": 12,
   "id": "c0c94014",
   "metadata": {},
   "outputs": [],
   "source": [
    "df=pd.read_csv(\"best_movies.csv\")"
   ]
  },
  {
   "cell_type": "code",
   "execution_count": 14,
   "id": "098aeb2d",
   "metadata": {},
   "outputs": [
    {
     "data": {
      "text/html": [
       "<div>\n",
       "<style scoped>\n",
       "    .dataframe tbody tr th:only-of-type {\n",
       "        vertical-align: middle;\n",
       "    }\n",
       "\n",
       "    .dataframe tbody tr th {\n",
       "        vertical-align: top;\n",
       "    }\n",
       "\n",
       "    .dataframe thead th {\n",
       "        text-align: right;\n",
       "    }\n",
       "</style>\n",
       "<table border=\"1\" class=\"dataframe\">\n",
       "  <thead>\n",
       "    <tr style=\"text-align: right;\">\n",
       "      <th></th>\n",
       "      <th>movie_title</th>\n",
       "      <th>imdb_score</th>\n",
       "    </tr>\n",
       "  </thead>\n",
       "  <tbody>\n",
       "    <tr>\n",
       "      <th>0</th>\n",
       "      <td>Avatar</td>\n",
       "      <td>7.9</td>\n",
       "    </tr>\n",
       "    <tr>\n",
       "      <th>1</th>\n",
       "      <td>Pirates of the Caribbean: At World's End</td>\n",
       "      <td>7.1</td>\n",
       "    </tr>\n",
       "    <tr>\n",
       "      <th>2</th>\n",
       "      <td>The Dark Knight Rises</td>\n",
       "      <td>8.5</td>\n",
       "    </tr>\n",
       "    <tr>\n",
       "      <th>3</th>\n",
       "      <td>Star Wars: Episode VII - The Force Awakens    ...</td>\n",
       "      <td>7.1</td>\n",
       "    </tr>\n",
       "    <tr>\n",
       "      <th>4</th>\n",
       "      <td>Tangled</td>\n",
       "      <td>7.8</td>\n",
       "    </tr>\n",
       "    <tr>\n",
       "      <th>...</th>\n",
       "      <td>...</td>\n",
       "      <td>...</td>\n",
       "    </tr>\n",
       "    <tr>\n",
       "      <th>1589</th>\n",
       "      <td>The Circle</td>\n",
       "      <td>7.5</td>\n",
       "    </tr>\n",
       "    <tr>\n",
       "      <th>1590</th>\n",
       "      <td>The Cure</td>\n",
       "      <td>7.4</td>\n",
       "    </tr>\n",
       "    <tr>\n",
       "      <th>1591</th>\n",
       "      <td>The Mongol King</td>\n",
       "      <td>7.8</td>\n",
       "    </tr>\n",
       "    <tr>\n",
       "      <th>1592</th>\n",
       "      <td>Signed Sealed Delivered</td>\n",
       "      <td>7.7</td>\n",
       "    </tr>\n",
       "    <tr>\n",
       "      <th>1593</th>\n",
       "      <td>The Following</td>\n",
       "      <td>7.5</td>\n",
       "    </tr>\n",
       "  </tbody>\n",
       "</table>\n",
       "<p>1594 rows × 2 columns</p>\n",
       "</div>"
      ],
      "text/plain": [
       "                                            movie_title  imdb_score\n",
       "0                                                Avatar         7.9\n",
       "1              Pirates of the Caribbean: At World's End         7.1\n",
       "2                                 The Dark Knight Rises         8.5\n",
       "3     Star Wars: Episode VII - The Force Awakens    ...         7.1\n",
       "4                                               Tangled         7.8\n",
       "...                                                 ...         ...\n",
       "1589                                         The Circle         7.5\n",
       "1590                                           The Cure         7.4\n",
       "1591                                    The Mongol King         7.8\n",
       "1592                            Signed Sealed Delivered         7.7\n",
       "1593                          The Following                     7.5\n",
       "\n",
       "[1594 rows x 2 columns]"
      ]
     },
     "execution_count": 14,
     "metadata": {},
     "output_type": "execute_result"
    }
   ],
   "source": [
    "df"
   ]
  },
  {
   "cell_type": "code",
   "execution_count": null,
   "id": "03392d12",
   "metadata": {},
   "outputs": [],
   "source": []
  }
 ],
 "metadata": {
  "kernelspec": {
   "display_name": "Python 3 (ipykernel)",
   "language": "python",
   "name": "python3"
  },
  "language_info": {
   "codemirror_mode": {
    "name": "ipython",
    "version": 3
   },
   "file_extension": ".py",
   "mimetype": "text/x-python",
   "name": "python",
   "nbconvert_exporter": "python",
   "pygments_lexer": "ipython3",
   "version": "3.9.13"
  }
 },
 "nbformat": 4,
 "nbformat_minor": 5
}
